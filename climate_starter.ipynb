{
 "cells": [
  {
   "cell_type": "code",
   "execution_count": 1,
   "metadata": {},
   "outputs": [],
   "source": [
    "%matplotlib inline\n",
    "from matplotlib import style\n",
    "style.use('fivethirtyeight')\n",
    "import matplotlib.pyplot as plt"
   ]
  },
  {
   "cell_type": "code",
   "execution_count": 2,
   "metadata": {},
   "outputs": [],
   "source": [
    "import numpy as np\n",
    "import pandas as pd\n",
    "from statistics import stdev"
   ]
  },
  {
   "cell_type": "code",
   "execution_count": 3,
   "metadata": {},
   "outputs": [],
   "source": [
    "import datetime as dt\n",
    "from sqlalchemy import and_, or_, not_"
   ]
  },
  {
   "cell_type": "markdown",
   "metadata": {},
   "source": [
    "# Reflect Tables into SQLAlchemy ORM"
   ]
  },
  {
   "cell_type": "code",
   "execution_count": 4,
   "metadata": {},
   "outputs": [],
   "source": [
    "# Python SQL toolkit and Object Relational Mapper\n",
    "import sqlalchemy\n",
    "from sqlalchemy.ext.automap import automap_base\n",
    "from sqlalchemy.orm import Session\n",
    "from sqlalchemy import create_engine, func,  inspect"
   ]
  },
  {
   "cell_type": "code",
   "execution_count": 5,
   "metadata": {},
   "outputs": [],
   "source": [
    "#connect to database\n",
    "engine = create_engine(\"sqlite:///Resources/hawaii.sqlite\")"
   ]
  },
  {
   "cell_type": "code",
   "execution_count": 6,
   "metadata": {},
   "outputs": [],
   "source": [
    "# reflect an existing database into a new model\n",
    "Base = automap_base()\n",
    "# reflect the tables\n",
    "Base.prepare(engine, reflect=True)"
   ]
  },
  {
   "cell_type": "code",
   "execution_count": 7,
   "metadata": {},
   "outputs": [
    {
     "data": {
      "text/plain": [
       "['measurement', 'station']"
      ]
     },
     "execution_count": 7,
     "metadata": {},
     "output_type": "execute_result"
    }
   ],
   "source": [
    "# We can view all of the classes that automap found\n",
    "Base.classes.keys()"
   ]
  },
  {
   "cell_type": "code",
   "execution_count": 8,
   "metadata": {},
   "outputs": [],
   "source": [
    "# Save references to each table\n",
    "Measurement = Base.classes.measurement\n",
    "Station = Base.classes.station"
   ]
  },
  {
   "cell_type": "code",
   "execution_count": 9,
   "metadata": {},
   "outputs": [],
   "source": [
    "# Create our session (link) from Python to the DB\n",
    "session = Session(engine)"
   ]
  },
  {
   "cell_type": "markdown",
   "metadata": {},
   "source": [
    "# Exploratory Climate Analysis"
   ]
  },
  {
   "cell_type": "code",
   "execution_count": 10,
   "metadata": {},
   "outputs": [
    {
     "data": {
      "text/plain": [
       "['measurement', 'station']"
      ]
     },
     "execution_count": 10,
     "metadata": {},
     "output_type": "execute_result"
    }
   ],
   "source": [
    "inspector = inspect(engine)    # Create the inspector and connect it to the engine\n",
    "inspector.get_table_names()   # Collect the names of tables within the database"
   ]
  },
  {
   "cell_type": "code",
   "execution_count": 11,
   "metadata": {},
   "outputs": [
    {
     "name": "stdout",
     "output_type": "stream",
     "text": [
      "id INTEGER\n",
      "station TEXT\n",
      "date TEXT\n",
      "prcp FLOAT\n",
      "tobs FLOAT\n"
     ]
    }
   ],
   "source": [
    "# Using the inspector to print the column names within the 'measurement' table and its types\n",
    "columns = inspector.get_columns('measurement')\n",
    "for column in columns:\n",
    "    print(column[\"name\"], column[\"type\"])"
   ]
  },
  {
   "cell_type": "code",
   "execution_count": 12,
   "metadata": {},
   "outputs": [
    {
     "name": "stdout",
     "output_type": "stream",
     "text": [
      "id INTEGER\n",
      "station TEXT\n",
      "name TEXT\n",
      "latitude FLOAT\n",
      "longitude FLOAT\n",
      "elevation FLOAT\n"
     ]
    }
   ],
   "source": [
    "# Using the inspector to print the column names within the 'station' table and its types\n",
    "columns = inspector.get_columns('station')\n",
    "for column in columns:\n",
    "    print(column[\"name\"], column[\"type\"])"
   ]
  },
  {
   "cell_type": "code",
   "execution_count": 13,
   "metadata": {},
   "outputs": [
    {
     "data": {
      "text/plain": [
       "'2016-08-23'"
      ]
     },
     "execution_count": 13,
     "metadata": {},
     "output_type": "execute_result"
    }
   ],
   "source": [
    "#calculate one year before last date in date set\n",
    "# get last date\n",
    "last_tuple=session.query(Measurement.date).order_by(Measurement.date.desc()).first()\n",
    "last_date=last_tuple[0]\n",
    "\n",
    "# find \"1 year ago\"\n",
    "date_list=last_date.split('-')\n",
    "year=int(date_list[0]) -1\n",
    "month=int(date_list[1])\n",
    "day=int(date_list[2])\n",
    "year_ago= dt.date(year,month,day) \n",
    "year_ago_date_str=str(year_ago)\n",
    "year_ago_date_str"
   ]
  },
  {
   "cell_type": "code",
   "execution_count": 14,
   "metadata": {},
   "outputs": [
    {
     "data": {
      "text/html": [
       "<div>\n",
       "<style scoped>\n",
       "    .dataframe tbody tr th:only-of-type {\n",
       "        vertical-align: middle;\n",
       "    }\n",
       "\n",
       "    .dataframe tbody tr th {\n",
       "        vertical-align: top;\n",
       "    }\n",
       "\n",
       "    .dataframe thead th {\n",
       "        text-align: right;\n",
       "    }\n",
       "</style>\n",
       "<table border=\"1\" class=\"dataframe\">\n",
       "  <thead>\n",
       "    <tr style=\"text-align: right;\">\n",
       "      <th></th>\n",
       "      <th>prcp</th>\n",
       "    </tr>\n",
       "  </thead>\n",
       "  <tbody>\n",
       "    <tr>\n",
       "      <th>2016-08-24</th>\n",
       "      <td>0.08</td>\n",
       "    </tr>\n",
       "    <tr>\n",
       "      <th>2016-08-24</th>\n",
       "      <td>2.15</td>\n",
       "    </tr>\n",
       "    <tr>\n",
       "      <th>2016-08-24</th>\n",
       "      <td>2.28</td>\n",
       "    </tr>\n",
       "    <tr>\n",
       "      <th>2016-08-24</th>\n",
       "      <td>1.22</td>\n",
       "    </tr>\n",
       "    <tr>\n",
       "      <th>2016-08-24</th>\n",
       "      <td>2.15</td>\n",
       "    </tr>\n",
       "  </tbody>\n",
       "</table>\n",
       "</div>"
      ],
      "text/plain": [
       "            prcp\n",
       "2016-08-24  0.08\n",
       "2016-08-24  2.15\n",
       "2016-08-24  2.28\n",
       "2016-08-24  1.22\n",
       "2016-08-24  2.15"
      ]
     },
     "execution_count": 14,
     "metadata": {},
     "output_type": "execute_result"
    }
   ],
   "source": [
    "# query previous years data\n",
    "data_set=session.query(Measurement.date, Measurement.prcp).filter(Measurement.date > year_ago_date_str).order_by(Measurement.date)\n",
    "# put into dataframe\n",
    "date_index=[record[0] for record in data_set]\n",
    "prcp_values=[record[1] for record in data_set]\n",
    "data_df=pd.DataFrame(prcp_values,index=date_index,columns=['prcp'])\n",
    "# remove rows with null values\n",
    "data_df=data_df.dropna()\n",
    "data_df.head()"
   ]
  },
  {
   "cell_type": "code",
   "execution_count": 15,
   "metadata": {},
   "outputs": [
    {
     "data": {
      "image/png": "[encoded data removed]",
      "text/plain": [
       "<Figure size 504x504 with 1 Axes>"
      ]
     },
     "metadata": {},
     "output_type": "display_data"
    }
   ],
   "source": [
    "#plot by precip measurement\n",
    "x_axis=np.arange(0,len(data_df),1)\n",
    "fig,ax=plt.subplots(figsize=(7,7))\n",
    "ax.bar(x_axis,data_df['prcp'])\n",
    "title=f\"Precipitation Measurements for {year_ago_date_str} to {last_date}\"\n",
    "ax.set_title(title)\n",
    "ax.set_xlabel('Meaurement by Date and Location')\n",
    "ax.set_ylabel(\"Precipitation\")\n",
    "fig.tight_layout()\n",
    "plt.savefig(\"Images/my_precipitation.png\")\n",
    "plt.show()"
   ]
  },
  {
   "cell_type": "code",
   "execution_count": 16,
   "metadata": {},
   "outputs": [
    {
     "data": {
      "text/html": [
       "<div>\n",
       "<style scoped>\n",
       "    .dataframe tbody tr th:only-of-type {\n",
       "        vertical-align: middle;\n",
       "    }\n",
       "\n",
       "    .dataframe tbody tr th {\n",
       "        vertical-align: top;\n",
       "    }\n",
       "\n",
       "    .dataframe thead th {\n",
       "        text-align: right;\n",
       "    }\n",
       "</style>\n",
       "<table border=\"1\" class=\"dataframe\">\n",
       "  <thead>\n",
       "    <tr style=\"text-align: right;\">\n",
       "      <th></th>\n",
       "      <th>Precipitation</th>\n",
       "    </tr>\n",
       "  </thead>\n",
       "  <tbody>\n",
       "    <tr>\n",
       "      <th>Count</th>\n",
       "      <td>2015.000000</td>\n",
       "    </tr>\n",
       "    <tr>\n",
       "      <th>Mean</th>\n",
       "      <td>0.176462</td>\n",
       "    </tr>\n",
       "    <tr>\n",
       "      <th>Std</th>\n",
       "      <td>0.460288</td>\n",
       "    </tr>\n",
       "    <tr>\n",
       "      <th>Min</th>\n",
       "      <td>0.000000</td>\n",
       "    </tr>\n",
       "    <tr>\n",
       "      <th>25%</th>\n",
       "      <td>0.000000</td>\n",
       "    </tr>\n",
       "    <tr>\n",
       "      <th>50%</th>\n",
       "      <td>0.020000</td>\n",
       "    </tr>\n",
       "    <tr>\n",
       "      <th>75%</th>\n",
       "      <td>0.130000</td>\n",
       "    </tr>\n",
       "    <tr>\n",
       "      <th>Max</th>\n",
       "      <td>6.700000</td>\n",
       "    </tr>\n",
       "  </tbody>\n",
       "</table>\n",
       "</div>"
      ],
      "text/plain": [
       "       Precipitation\n",
       "Count    2015.000000\n",
       "Mean        0.176462\n",
       "Std         0.460288\n",
       "Min         0.000000\n",
       "25%         0.000000\n",
       "50%         0.020000\n",
       "75%         0.130000\n",
       "Max         6.700000"
      ]
     },
     "execution_count": 16,
     "metadata": {},
     "output_type": "execute_result"
    }
   ],
   "source": [
    "#calculate summary statistics for precipitation data\n",
    "summary_df=pd.DataFrame([[data_df['prcp'].count()],\n",
    "                       [data_df['prcp'].mean()] , \n",
    "                       [stdev(data_df['prcp'])],\n",
    "                       [ data_df['prcp'].min() ],\n",
    "                       [ np.percentile(data_df['prcp'],25) ],\n",
    "                       [ np.percentile(data_df['prcp'],50) ],\n",
    "                       [ np.percentile(data_df['prcp'],75) ],\n",
    "                       [ data_df['prcp'].max() ]                       \n",
    "                      ],\n",
    "                      index=[ 'Count','Mean', 'Std','Min','25%','50%', '75%','Max' ],\n",
    "                     columns=['Precipitation'])\n",
    "summary_df"
   ]
  },
  {
   "cell_type": "code",
   "execution_count": 17,
   "metadata": {},
   "outputs": [
    {
     "name": "stdout",
     "output_type": "stream",
     "text": [
      "The total number of stations is 9\n"
     ]
    }
   ],
   "source": [
    "# count distinct stations\n",
    "station_count=session.query(Measurement.station).distinct().count()\n",
    "print(f\"The total number of stations is {station_count}\")"
   ]
  },
  {
   "cell_type": "code",
   "execution_count": 18,
   "metadata": {
    "scrolled": true
   },
   "outputs": [
    {
     "name": "stdout",
     "output_type": "stream",
     "text": [
      "The station with the most measurement entries is station USC00519281 named WAIHEE 837.5, HI US \n",
      "\n",
      "The station activity levels are as follows:\n",
      "WAIHEE 837.5, HI US                       USC00519281\t 2772\n",
      "KANEOHE 838.1, HI US                      USC00513117\t 2696\n",
      "WAIKIKI 717.2, HI US                      USC00519397\t 2685\n",
      "WAIMANALO EXPERIMENTAL FARM, HI US        USC00519523\t 2572\n",
      "MANOA LYON ARBO 785.2, HI US              USC00516128\t 2484\n",
      "KUALOA RANCH HEADQUARTERS 886.9, HI US    USC00514830\t 1937\n",
      "HONOLULU OBSERVATORY 702.2, HI US         USC00511918\t 1932\n",
      "PEARL CITY, HI US                         USC00517948\t 683\n",
      "UPPER WAHIAWA 874.3, HI US                USC00518838\t 342\n"
     ]
    }
   ],
   "source": [
    "# What are the most active stations? (i.e. what stations have the most rows)?\n",
    "# find most active station at the top of the list order descending \n",
    "#join tables on station to get name and count\n",
    "sel=[Station.name,Measurement.station,func.count(Measurement.prcp)]\n",
    "\n",
    "station_entrys=session.query(*sel).filter(Station.station == Measurement.station).\\\n",
    "                            group_by(Measurement.station).order_by(func.count(Measurement.prcp).desc()).first()\n",
    "active_station=station_entrys[1]\n",
    "print(f\"The station with the most measurement entries is station {active_station} named {station_entrys[0]} \\n\")\n",
    "print(\"The station activity levels are as follows:\")\n",
    "\n",
    "# List the stations and the counts in descending order.\n",
    "station_entrys=session.query(*sel).filter(Station.station == Measurement.station).\\\n",
    "                            group_by(Measurement.station).order_by(func.count(Measurement.prcp).desc()).all()\n",
    "\n",
    "for record in station_entrys:\n",
    "    print(f\"{record[0]:40}  {record[1]}\\t {record[2]}\")"
   ]
  },
  {
   "cell_type": "markdown",
   "metadata": {},
   "source": [
    "    ## The instructions in the next part and in the README seem different, I did the next query for the last 12 mo of data so the info can be used for the histogram which follows\n"
   ]
  },
  {
   "cell_type": "code",
   "execution_count": 19,
   "metadata": {},
   "outputs": [
    {
     "name": "stdout",
     "output_type": "stream",
     "text": [
      "For USC00519281 the most activly reporting station, for the last 12 months\n",
      " The lowest temp is 59.0 \n",
      " the highest temp is 83.0 \n",
      " and the average temp is 73.0968660968661\n"
     ]
    }
   ],
   "source": [
    "# Using the station id from the previous query, calculate the lowest temperature recorded, \n",
    "# highest temperature recorded, and average temperature for most active station?\n",
    "\n",
    "sel=[func.min(Measurement.tobs),func.max(Measurement.tobs),func.avg(Measurement.tobs)]\n",
    "\n",
    "temp_stat_tup=session.query(*sel).filter(and_(Measurement.station==active_station, Measurement.date > year_ago_date_str)).all()\n",
    "temp_stat=temp_stat_tup[0]\n",
    "\n",
    "min_temp=temp_stat[0]\n",
    "max_temp=temp_stat[1]\n",
    "print(f\"For {active_station} the most activly reporting station, for the last 12 months\")\n",
    "print(f\" The lowest temp is {min_temp} \\n the highest temp is {max_temp} \\n and the average temp is {temp_stat[2]}\")"
   ]
  },
  {
   "cell_type": "code",
   "execution_count": 20,
   "metadata": {},
   "outputs": [],
   "source": [
    "# Choose the station with the highest number of temperature observations.\n",
    "# Query the last 12 months of temperature observation data for this station \n",
    "temp_tuple=session.query(Measurement.tobs).\\\n",
    "filter(and_(Measurement.station==active_station, Measurement.date > year_ago_date_str)).order_by(Measurement.tobs).all()\n",
    "\n",
    "temp_list=[tup[0] for tup in temp_tuple]\n",
    "temp_df=pd.DataFrame(temp_list,columns=['tobs'])\n",
    "#temp_df.head()"
   ]
  },
  {
   "cell_type": "code",
   "execution_count": 21,
   "metadata": {},
   "outputs": [
    {
     "data": {
      "image/png": "[encoded data removed]",
      "text/plain": [
       "<Figure size 504x504 with 1 Axes>"
      ]
     },
     "metadata": {},
     "output_type": "display_data"
    }
   ],
   "source": [
    "#plot the results as a histogram\n",
    "bins=[59,61,64,66,68,70,72,74,76,78,81,83]\n",
    "fig,ax=plt.subplots(figsize=(7,7))\n",
    "ax.hist(temp_df['tobs'],bins=bins,range=(min_temp,max_temp),histtype='bar',color='slateblue')\n",
    "x_axis=np.arange(59,85,2)\n",
    "#ax.set_xticks(bins)\n",
    "ax.set_xticks(x_axis)\n",
    "ax.grid(linestyle='--')\n",
    "ax.set_xlabel(\"Temperature\")\n",
    "ax.set_ylabel(\"Frequency\")\n",
    "ax.set_title(f\"Temperature Histogram for Station {active_station}\")\n",
    "plt.tight_layout()\n",
    "# Save the Figure\n",
    "fig.savefig(\"Images/my_histogram.png\")\n",
    "# Show the Figure \n",
    "plt.show()"
   ]
  },
  {
   "cell_type": "code",
   "execution_count": 22,
   "metadata": {},
   "outputs": [],
   "source": [
    "# This function called `calc_temps` will accept start date and end date in the format '%Y-%m-%d' \n",
    "# and return the minimum, average, and maximum temperatures for that range of dates\n",
    "def calc_temps(start_date, end_date):\n",
    "    \"\"\"TMIN, TAVG, and TMAX for a list of dates.\n",
    "    \n",
    "    Args:\n",
    "        start_date (string): A date string in the format %Y-%m-%d\n",
    "        end_date (string): A date string in the format %Y-%m-%d\n",
    "        \n",
    "    Returns:\n",
    "        TMIN, TAVE, and TMAX\n",
    "    \"\"\"\n",
    "    \n",
    "    return session.query(func.min(Measurement.tobs), func.avg(Measurement.tobs), func.max(Measurement.tobs)).\\\n",
    "        filter(Measurement.date >= start_date).filter(Measurement.date <= end_date).all()\n",
    "\n",
    "# function usage example\n",
    "#print(calc_temps('2012-02-28', '2012-03-05'))"
   ]
  },
  {
   "cell_type": "code",
   "execution_count": 23,
   "metadata": {},
   "outputs": [],
   "source": [
    "# Use your previous function `calc_temps` to calculate the tmin, tavg, and tmax \n",
    "# for your trip using the previous year's data for those same dates.\n",
    "\n",
    "start_date= dt.date(2018,1,7) - dt.timedelta(days=365)\n",
    "end_date= dt.date(2018,1,21) - dt.timedelta(days=365)\n",
    "\n",
    "temp_data=calc_temps(start_date,end_date)"
   ]
  },
  {
   "cell_type": "code",
   "execution_count": 24,
   "metadata": {},
   "outputs": [
    {
     "data": {
      "image/png": "[encoded data removed]",
      "text/plain": [
       "<Figure size 216x504 with 1 Axes>"
      ]
     },
     "metadata": {},
     "output_type": "display_data"
    }
   ],
   "source": [
    "# Plot the results from your previous query as a bar chart. \n",
    "# Use \"Trip Avg Temp\" as your Title\n",
    "# Use the average temperature for the y value\n",
    "# Use the peak-to-peak (tmax-tmin) value as the y error bar (yerr)\n",
    "# example data\n",
    "x = 1\n",
    "y = temp_data[0][1]\n",
    "min=temp_data[0][0]\n",
    "max=temp_data[0][2]\n",
    "lower=y-min\n",
    "upper=max-y\n",
    "range=[[lower],[upper]]\n",
    "\n",
    "fig,ax=plt.subplots(figsize=(3,7))\n",
    "ax.bar(x, y, width=0.5, yerr=range, color='salmon', align='center')\n",
    "ax.set_ylabel(\"Temperature (F)\")\n",
    "ax.set_title(f\"Trip Avg Temp \\n \\n {start_date} to {end_date}\")\n",
    "plt.tight_layout()\n",
    "# Save the Figure\n",
    "fig.savefig(\"Images/triptemp.png\")\n",
    "# Show the Figure \n",
    "plt.show()"
   ]
  },
  {
   "cell_type": "code",
   "execution_count": 25,
   "metadata": {},
   "outputs": [
    {
     "name": "stdout",
     "output_type": "stream",
     "text": [
      "Total Rainfall for 2017-01-07 to 2017-01-21 \n",
      " Prcp    Station        Station Name                              Latitude   Longitude    Elevation\n",
      "----------------------------------------------------------------------------------------------------\n",
      "  0.19   USC00516128    MANOA LYON ARBO 785.2, HI US               21.3331    -157.8025     152.4\n",
      "  0.11   USC00519523    WAIMANALO EXPERIMENTAL FARM, HI US        21.33556   -157.71139      19.5\n",
      "   0.1   USC00513117    KANEOHE 838.1, HI US                       21.4234    -157.8015      14.6\n",
      "  0.06   USC00519281    WAIHEE 837.5, HI US                       21.45167   -157.84889      32.9\n",
      "  0.05   USC00514830    KUALOA RANCH HEADQUARTERS 886.9, HI US     21.5213    -157.8374       7.0\n",
      "   0.0   USC00517948    PEARL CITY, HI US                          21.3934    -157.9751      11.9\n",
      "   0.0   USC00519397    WAIKIKI 717.2, HI US                       21.2716    -157.8168       3.0\n"
     ]
    }
   ],
   "source": [
    "# Calculate the rainfall per weather station for your trip dates using the previous year's matching dates.\n",
    "# Sort this in descending order by precipitation amount and list the station, name, latitude, longitude, and elevation\n",
    "sel=[func.sum(Measurement.prcp),Measurement.station,Station.name,Station.latitude,Station.longitude,Station.elevation]\n",
    "\n",
    "trip_percip=session.query(*sel).filter(Measurement.station==Station.station).\\\n",
    "filter(Measurement.date >= start_date).\\\n",
    "filter(Measurement.date <= end_date).\\\n",
    "group_by(Measurement.station).order_by(func.sum(Measurement.prcp).desc()).all()\n",
    "\n",
    "print(f\"Total Rainfall for {start_date} to {end_date} \")\n",
    "print(\" Prcp    Station        Station Name                              Latitude   Longitude    Elevation\")\n",
    "print(\"----------------------------------------------------------------------------------------------------\")\n",
    "for record in trip_percip: #  {:10}'.format('test')\n",
    "  #  print(\" {:5}   {:12}   {:40}   {:10}   {:10}   {:10}\".format(record))   \n",
    "    print(f\" {record[0]:5.5}   {record[1]:12.12}   {record[2]:40.40}{record[3]:10.10}   {record[4]:10.10}{record[5]:10.10}\")"
   ]
  },
  {
   "cell_type": "markdown",
   "metadata": {},
   "source": [
    "## Optional Challenge Assignment"
   ]
  },
  {
   "cell_type": "code",
   "execution_count": 26,
   "metadata": {},
   "outputs": [
    {
     "data": {
      "text/plain": [
       "[(62.0, 69.15384615384616, 77.0)]"
      ]
     },
     "execution_count": 26,
     "metadata": {},
     "output_type": "execute_result"
    }
   ],
   "source": [
    "# Create a query that will calculate the daily normals \n",
    "# (i.e. the averages for tmin, tmax, and tavg for all historic data matching a specific month and day)\n",
    "\n",
    "def daily_normals(date):\n",
    "    \"\"\"Daily Normals.\n",
    "    \n",
    "    Args:\n",
    "        date (str): A date string in the format '%m-%d'\n",
    "        \n",
    "    Returns:\n",
    "        A list of tuples containing the daily normals, tmin, tavg, and tmax\n",
    "    \n",
    "    \"\"\"\n",
    "    \n",
    "    sel = [func.min(Measurement.tobs), func.avg(Measurement.tobs), func.max(Measurement.tobs)]\n",
    "    return session.query(*sel).filter(func.strftime(\"%m-%d\", Measurement.date) == date).all()\n",
    "    \n",
    "daily_normals(\"01-01\")"
   ]
  },
  {
   "cell_type": "code",
   "execution_count": 27,
   "metadata": {},
   "outputs": [],
   "source": [
    "# calculate the daily normals for your trip\n",
    "# push each tuple of calculations into a list called `normals`\n",
    "\n",
    "# Set the start and end date of the trip\n",
    "#  PREVIOUSLY SET\n",
    "# Use the start and end date to create a range of dates\n",
    "date_range=[]\n",
    "running_date=start_date\n",
    "while running_date <= end_date:\n",
    "    date_range.append(running_date)\n",
    "    running_date = running_date + dt.timedelta(days=1)\n",
    "\n",
    "                           \n",
    "# Stip off the year and save a list of %m-%d strings\n",
    "trip_date=[my_date.strftime(\"%m-%d\") for my_date in date_range]\n",
    "#print(trip_date[0])\n",
    "# Loop through the list of %m-%d strings and calculate the normals for each date\n",
    "normals=[daily_normals(my_date)[0] for my_date in trip_date]\n",
    "#print(normals)"
   ]
  },
  {
   "cell_type": "code",
   "execution_count": 28,
   "metadata": {},
   "outputs": [
    {
     "data": {
      "text/html": [
       "<div>\n",
       "<style scoped>\n",
       "    .dataframe tbody tr th:only-of-type {\n",
       "        vertical-align: middle;\n",
       "    }\n",
       "\n",
       "    .dataframe tbody tr th {\n",
       "        vertical-align: top;\n",
       "    }\n",
       "\n",
       "    .dataframe thead th {\n",
       "        text-align: right;\n",
       "    }\n",
       "</style>\n",
       "<table border=\"1\" class=\"dataframe\">\n",
       "  <thead>\n",
       "    <tr style=\"text-align: right;\">\n",
       "      <th></th>\n",
       "      <th>Min Temp</th>\n",
       "      <th>Ave Temp</th>\n",
       "      <th>Max Temp</th>\n",
       "    </tr>\n",
       "  </thead>\n",
       "  <tbody>\n",
       "    <tr>\n",
       "      <th>01-07</th>\n",
       "      <td>57.0</td>\n",
       "      <td>68.543860</td>\n",
       "      <td>76.0</td>\n",
       "    </tr>\n",
       "    <tr>\n",
       "      <th>01-08</th>\n",
       "      <td>57.0</td>\n",
       "      <td>67.160714</td>\n",
       "      <td>75.0</td>\n",
       "    </tr>\n",
       "    <tr>\n",
       "      <th>01-09</th>\n",
       "      <td>58.0</td>\n",
       "      <td>67.929825</td>\n",
       "      <td>78.0</td>\n",
       "    </tr>\n",
       "    <tr>\n",
       "      <th>01-10</th>\n",
       "      <td>62.0</td>\n",
       "      <td>69.741379</td>\n",
       "      <td>77.0</td>\n",
       "    </tr>\n",
       "    <tr>\n",
       "      <th>01-11</th>\n",
       "      <td>57.0</td>\n",
       "      <td>67.310345</td>\n",
       "      <td>78.0</td>\n",
       "    </tr>\n",
       "  </tbody>\n",
       "</table>\n",
       "</div>"
      ],
      "text/plain": [
       "       Min Temp   Ave Temp  Max Temp\n",
       "01-07      57.0  68.543860      76.0\n",
       "01-08      57.0  67.160714      75.0\n",
       "01-09      58.0  67.929825      78.0\n",
       "01-10      62.0  69.741379      77.0\n",
       "01-11      57.0  67.310345      78.0"
      ]
     },
     "execution_count": 28,
     "metadata": {},
     "output_type": "execute_result"
    }
   ],
   "source": [
    "# Load the previous query results into a Pandas DataFrame and add the `trip_dates` range as the `date` index\n",
    "daily_norms=pd.DataFrame(normals,index=trip_date,columns=[\"Min Temp\",\"Ave Temp\",\"Max Temp\"])\n",
    "daily_norms.head()"
   ]
  },
  {
   "cell_type": "code",
   "execution_count": 29,
   "metadata": {},
   "outputs": [
    {
     "data": {
      "image/png": "[encoded data removed]",
      "text/plain": [
       "<Figure size 432x288 with 1 Axes>"
      ]
     },
     "metadata": {},
     "output_type": "display_data"
    }
   ],
   "source": [
    "# Plot the daily normals as an area plot with `stacked=False`\n",
    "x_axis=np.arange(0,len(trip_date),1)\n",
    "daily_norms.plot.area(stacked=False)\n",
    "\n",
    "plt.xlabel(\"Trip Dates\")\n",
    "plt.ylabel(\"Temperature (F)\")\n",
    "plt.title(\"Temperature Range for Vacation Days\")\n",
    "plt.xticks(x_axis,trip_date,rotation=45)\n",
    "plt.savefig(\"Images/my_dailynorms.png\")\n",
    "plt.show()"
   ]
  },
  {
   "cell_type": "code",
   "execution_count": null,
   "metadata": {},
   "outputs": [],
   "source": []
  }
 ],
 "metadata": {
  "kernel_info": {
   "name": "python3"
  },
  "kernelspec": {
   "display_name": "Python [default]",
   "language": "python",
   "name": "python3"
  },
  "language_info": {
   "codemirror_mode": {
    "name": "ipython",
    "version": 3
   },
   "file_extension": ".py",
   "mimetype": "text/x-python",
   "name": "python",
   "nbconvert_exporter": "python",
   "pygments_lexer": "ipython3",
   "version": "3.6.5"
  },
  "nteract": {
   "version": "0.9.1"
  },
  "varInspector": {
   "cols": {
    "lenName": 16,
    "lenType": 16,
    "lenVar": 40
   },
   "kernels_config": {
    "python": {
     "delete_cmd_postfix": "",
     "delete_cmd_prefix": "del ",
     "library": "var_list.py",
     "varRefreshCmd": "print(var_dic_list())"
    },
    "r": {
     "delete_cmd_postfix": ") ",
     "delete_cmd_prefix": "rm(",
     "library": "var_list.r",
     "varRefreshCmd": "cat(var_dic_list()) "
    }
   },
   "types_to_exclude": [
    "module",
    "function",
    "builtin_function_or_method",
    "instance",
    "_Feature"
   ],
   "window_display": false
  }
 },
 "nbformat": 4,
 "nbformat_minor": 2
}
